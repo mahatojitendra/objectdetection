{
 "cells": [
  {
   "cell_type": "markdown",
   "metadata": {},
   "source": [
    "# 1. Import Dependencies"
   ]
  },
  {
   "cell_type": "code",
   "execution_count": 2,
   "metadata": {},
   "outputs": [
    {
     "name": "stdout",
     "output_type": "stream",
     "text": [
      "Requirement already satisfied: opencv-python in e:\\practice\\objectdetection\\objectdetection\\lib\\site-packages (4.5.2.52)\n",
      "Requirement already satisfied: numpy>=1.19.3 in e:\\practice\\objectdetection\\objectdetection\\lib\\site-packages (from opencv-python) (1.20.3)\n"
     ]
    }
   ],
   "source": [
    "!pip install opencv-python"
   ]
  },
  {
   "cell_type": "code",
   "execution_count": 3,
   "metadata": {},
   "outputs": [],
   "source": [
    "# Import opencv\n",
    "import cv2 \n",
    "\n",
    "# Import uuid\n",
    "import uuid\n",
    "\n",
    "# Import Operating System\n",
    "import os\n",
    "\n",
    "# Import time\n",
    "import time"
   ]
  },
  {
   "cell_type": "markdown",
   "metadata": {},
   "source": [
    "# 2. Define Images to Collect"
   ]
  },
  {
   "cell_type": "code",
   "execution_count": 4,
   "metadata": {},
   "outputs": [],
   "source": [
    "labels = ['thumbsup', 'thumbsdown', 'thankyou', 'livelong']\n",
    "number_imgs = 5"
   ]
  },
  {
   "cell_type": "markdown",
   "metadata": {},
   "source": [
    "# 3. Setup Folders "
   ]
  },
  {
   "cell_type": "code",
   "execution_count": 5,
   "metadata": {},
   "outputs": [],
   "source": [
    "IMAGES_PATH = os.path.join('Tensorflow', 'workspace', 'images', 'collectedimages')"
   ]
  },
  {
   "cell_type": "code",
   "execution_count": 6,
   "metadata": {},
   "outputs": [],
   "source": [
    "if not os.path.exists(IMAGES_PATH):\n",
    "    if os.name == 'posix':\n",
    "        !mkdir -p {IMAGES_PATH}\n",
    "    if os.name == 'nt':\n",
    "         !mkdir {IMAGES_PATH}\n",
    "for label in labels:\n",
    "    path = os.path.join(IMAGES_PATH, label)\n",
    "    if not os.path.exists(path):\n",
    "        !mkdir {path}"
   ]
  },
  {
   "cell_type": "markdown",
   "metadata": {},
   "source": [
    "# 4. Capture Images"
   ]
  },
  {
   "cell_type": "code",
   "execution_count": 10,
   "metadata": {
    "scrolled": true
   },
   "outputs": [
    {
     "name": "stdout",
     "output_type": "stream",
     "text": [
      "Collecting images for thumbsup\n",
      "Collecting image 0\n",
      "Collecting image 1\n",
      "Collecting image 2\n",
      "Collecting image 3\n",
      "Collecting image 4\n",
      "Collecting images for thumbsdown\n",
      "Collecting image 0\n",
      "Collecting image 1\n",
      "Collecting image 2\n",
      "Collecting image 3\n",
      "Collecting image 4\n",
      "Collecting images for thankyou\n",
      "Collecting image 0\n",
      "Collecting image 1\n",
      "Collecting image 2\n",
      "Collecting image 3\n",
      "Collecting image 4\n",
      "Collecting images for livelong\n",
      "Collecting image 0\n",
      "Collecting image 1\n",
      "Collecting image 2\n",
      "Collecting image 3\n",
      "Collecting image 4\n"
     ]
    }
   ],
   "source": [
    "for label in labels:\n",
    "    cap = cv2.VideoCapture(0)\n",
    "    print('Collecting images for {}'.format(label))\n",
    "    time.sleep(5)\n",
    "    for imgnum in range(number_imgs):\n",
    "        print('Collecting image {}'.format(imgnum))\n",
    "        ret, frame = cap.read()\n",
    "        imgname = os.path.join(IMAGES_PATH,label,label+'.'+'{}.jpg'.format(str(uuid.uuid1())))\n",
    "        cv2.imwrite(imgname, frame)\n",
    "        cv2.imshow('frame', frame)\n",
    "        time.sleep(2)\n",
    "\n",
    "        if cv2.waitKey(1) & 0xFF == ord('q'):\n",
    "            break\n",
    "cap.release()\n",
    "cv2.destroyAllWindows()"
   ]
  },
  {
   "cell_type": "markdown",
   "metadata": {},
   "source": [
    "# 5. Image Labelling"
   ]
  },
  {
   "cell_type": "code",
   "execution_count": 11,
   "metadata": {},
   "outputs": [
    {
     "name": "stdout",
     "output_type": "stream",
     "text": [
      "Collecting pyqt5\n",
      "  Downloading PyQt5-5.15.4-cp36.cp37.cp38.cp39-none-win_amd64.whl (6.8 MB)\n",
      "Collecting lxml\n",
      "  Downloading lxml-4.6.3-cp39-cp39-win_amd64.whl (3.5 MB)\n",
      "Collecting PyQt5-sip<13,>=12.8\n",
      "  Downloading PyQt5_sip-12.9.0-cp39-cp39-win_amd64.whl (63 kB)\n",
      "Collecting PyQt5-Qt5>=5.15\n",
      "  Downloading PyQt5_Qt5-5.15.2-py3-none-win_amd64.whl (50.1 MB)\n",
      "Installing collected packages: PyQt5-sip, PyQt5-Qt5, pyqt5, lxml\n",
      "Successfully installed PyQt5-Qt5-5.15.2 PyQt5-sip-12.9.0 lxml-4.6.3 pyqt5-5.15.4\n"
     ]
    }
   ],
   "source": [
    "!pip install --upgrade pyqt5 lxml"
   ]
  },
  {
   "cell_type": "code",
   "execution_count": 13,
   "metadata": {},
   "outputs": [],
   "source": [
    "LABELIMG_PATH = os.path.join('Tensorflow', 'labelimg')"
   ]
  },
  {
   "cell_type": "code",
   "execution_count": 14,
   "metadata": {},
   "outputs": [
    {
     "name": "stderr",
     "output_type": "stream",
     "text": [
      "Cloning into 'Tensorflow\\labelimg'...\n"
     ]
    }
   ],
   "source": [
    "if not os.path.exists(LABELIMG_PATH):\n",
    "    !mkdir {LABELIMG_PATH}\n",
    "    !git clone https://github.com/tzutalin/labelImg {LABELIMG_PATH}"
   ]
  },
  {
   "cell_type": "code",
   "execution_count": 15,
   "metadata": {},
   "outputs": [],
   "source": [
    "if os.name == 'posix':\n",
    "    !cd {LABELIMG_PATH} && make qt5py3\n",
    "if os.name =='nt':\n",
    "    !cd {LABELIMG_PATH} && pyrcc5 -o libs/resources.py resources.qrc"
   ]
  },
  {
   "cell_type": "code",
   "execution_count": 16,
   "metadata": {},
   "outputs": [
    {
     "name": "stdout",
     "output_type": "stream",
     "text": [
      "Cancel creation.\n",
      "Cancel creation.\n",
      "Cancel creation.\n",
      "Image:E:\\practice\\objectdetection\\TFODCourse\\Tensorflow\\workspace\\images\\collectedimages\\livelong\\livelong.45b87be0-c572-11eb-8041-f3cf340be0b1.jpg -> Annotation:E:/practice/objectdetection/TFODCourse/Tensorflow/workspace/images/collectedimages/livelong/livelong.45b87be0-c572-11eb-8041-f3cf340be0b1.xml\n",
      "Image:E:\\practice\\objectdetection\\TFODCourse\\Tensorflow\\workspace\\images\\collectedimages\\livelong\\livelong.46ed8d61-c572-11eb-ae2b-f3cf340be0b1.jpg -> Annotation:E:/practice/objectdetection/TFODCourse/Tensorflow/workspace/images/collectedimages/livelong/livelong.46ed8d61-c572-11eb-ae2b-f3cf340be0b1.xml\n",
      "Cancel creation.\n",
      "Image:E:\\practice\\objectdetection\\TFODCourse\\Tensorflow\\workspace\\images\\collectedimages\\livelong\\livelong.434d2e5b-c572-11eb-9231-f3cf340be0b1.jpg -> Annotation:E:/practice/objectdetection/TFODCourse/Tensorflow/workspace/images/collectedimages/livelong/livelong.434d2e5b-c572-11eb-9231-f3cf340be0b1.xml\n",
      "Image:E:\\practice\\objectdetection\\TFODCourse\\Tensorflow\\workspace\\images\\collectedimages\\livelong\\livelong.4482a5e9-c572-11eb-a3e8-f3cf340be0b1.jpg -> Annotation:E:/practice/objectdetection/TFODCourse/Tensorflow/workspace/images/collectedimages/livelong/livelong.4482a5e9-c572-11eb-a3e8-f3cf340be0b1.xml\n",
      "Image:E:\\practice\\objectdetection\\TFODCourse\\Tensorflow\\workspace\\images\\collectedimages\\livelong\\livelong.48242d39-c572-11eb-9731-f3cf340be0b1.jpg -> Annotation:E:/practice/objectdetection/TFODCourse/Tensorflow/workspace/images/collectedimages/livelong/livelong.48242d39-c572-11eb-9731-f3cf340be0b1.xml\n",
      "Image:E:\\practice\\objectdetection\\TFODCourse\\Tensorflow\\workspace\\images\\collectedimages\\livelong\\livelong.ecb1320f-c56f-11eb-a4ae-f3cf340be0b1.jpg -> Annotation:E:/practice/objectdetection/TFODCourse/Tensorflow/workspace/images/collectedimages/livelong/livelong.ecb1320f-c56f-11eb-a4ae-f3cf340be0b1.xml\n",
      "Image:E:\\practice\\objectdetection\\TFODCourse\\Tensorflow\\workspace\\images\\collectedimages\\livelong\\livelong.ede71969-c56f-11eb-911f-f3cf340be0b1.jpg -> Annotation:E:/practice/objectdetection/TFODCourse/Tensorflow/workspace/images/collectedimages/livelong/livelong.ede71969-c56f-11eb-911f-f3cf340be0b1.xml\n",
      "Image:E:\\practice\\objectdetection\\TFODCourse\\Tensorflow\\workspace\\images\\collectedimages\\livelong\\livelong.ef1fd1e9-c56f-11eb-a7ae-f3cf340be0b1.jpg -> Annotation:E:/practice/objectdetection/TFODCourse/Tensorflow/workspace/images/collectedimages/livelong/livelong.ef1fd1e9-c56f-11eb-a7ae-f3cf340be0b1.xml\n",
      "Image:E:\\practice\\objectdetection\\TFODCourse\\Tensorflow\\workspace\\images\\collectedimages\\livelong\\livelong.f18c68aa-c56f-11eb-a3d9-f3cf340be0b1.jpg -> Annotation:E:/practice/objectdetection/TFODCourse/Tensorflow/workspace/images/collectedimages/livelong/livelong.f18c68aa-c56f-11eb-a3d9-f3cf340be0b1.xml\n",
      "Image:E:\\practice\\objectdetection\\TFODCourse\\Tensorflow\\workspace\\images\\collectedimages\\livelong\\livelong.f0552032-c56f-11eb-9548-f3cf340be0b1.jpg -> Annotation:E:/practice/objectdetection/TFODCourse/Tensorflow/workspace/images/collectedimages/livelong/livelong.f0552032-c56f-11eb-9548-f3cf340be0b1.xml\n",
      "Image:E:\\practice\\objectdetection\\TFODCourse\\Tensorflow\\workspace\\images\\collectedimages\\thankyou\\thankyou.3b067a47-c572-11eb-95d7-f3cf340be0b1.jpg -> Annotation:E:/practice/objectdetection/TFODCourse/Tensorflow/workspace/images/collectedimages/thankyou/thankyou.3b067a47-c572-11eb-95d7-f3cf340be0b1.xml\n",
      "Image:E:\\practice\\objectdetection\\TFODCourse\\Tensorflow\\workspace\\images\\collectedimages\\thankyou\\thankyou.3c3ec764-c572-11eb-b816-f3cf340be0b1.jpg -> Annotation:E:/practice/objectdetection/TFODCourse/Tensorflow/workspace/images/collectedimages/thankyou/thankyou.3c3ec764-c572-11eb-b816-f3cf340be0b1.xml\n",
      "Image:E:\\practice\\objectdetection\\TFODCourse\\Tensorflow\\workspace\\images\\collectedimages\\thankyou\\thankyou.39cff038-c572-11eb-8f69-f3cf340be0b1.jpg -> Annotation:E:/practice/objectdetection/TFODCourse/Tensorflow/workspace/images/collectedimages/thankyou/thankyou.39cff038-c572-11eb-8f69-f3cf340be0b1.xml\n",
      "Image:E:\\practice\\objectdetection\\TFODCourse\\Tensorflow\\workspace\\images\\collectedimages\\thankyou\\thankyou.3762d243-c572-11eb-b40e-f3cf340be0b1.jpg -> Annotation:E:/practice/objectdetection/TFODCourse/Tensorflow/workspace/images/collectedimages/thankyou/thankyou.3762d243-c572-11eb-b40e-f3cf340be0b1.xml\n",
      "Image:E:\\practice\\objectdetection\\TFODCourse\\Tensorflow\\workspace\\images\\collectedimages\\thankyou\\thankyou.3899c479-c572-11eb-b8a8-f3cf340be0b1.jpg -> Annotation:E:/practice/objectdetection/TFODCourse/Tensorflow/workspace/images/collectedimages/thankyou/thankyou.3899c479-c572-11eb-b8a8-f3cf340be0b1.xml\n",
      "Cancel creation.\n",
      "Cancel creation.\n",
      "Image:E:\\practice\\objectdetection\\TFODCourse\\Tensorflow\\workspace\\images\\collectedimages\\thankyou\\thankyou.e5ee77d2-c56f-11eb-9a91-f3cf340be0b1.jpg -> Annotation:E:/practice/objectdetection/TFODCourse/Tensorflow/workspace/images/collectedimages/thankyou/thankyou.e5ee77d2-c56f-11eb-9a91-f3cf340be0b1.xml\n",
      "Cancel creation.\n",
      "Image:E:\\practice\\objectdetection\\TFODCourse\\Tensorflow\\workspace\\images\\collectedimages\\thankyou\\thankyou.e37e9c19-c56f-11eb-8d5c-f3cf340be0b1.jpg -> Annotation:E:/practice/objectdetection/TFODCourse/Tensorflow/workspace/images/collectedimages/thankyou/thankyou.e37e9c19-c56f-11eb-8d5c-f3cf340be0b1.xml\n",
      "Image:E:\\practice\\objectdetection\\TFODCourse\\Tensorflow\\workspace\\images\\collectedimages\\thankyou\\thankyou.e113c1fd-c56f-11eb-b60f-f3cf340be0b1.jpg -> Annotation:E:/practice/objectdetection/TFODCourse/Tensorflow/workspace/images/collectedimages/thankyou/thankyou.e113c1fd-c56f-11eb-b60f-f3cf340be0b1.xml\n",
      "Image:E:\\practice\\objectdetection\\TFODCourse\\Tensorflow\\workspace\\images\\collectedimages\\thankyou\\thankyou.e248c03e-c56f-11eb-9968-f3cf340be0b1.jpg -> Annotation:E:/practice/objectdetection/TFODCourse/Tensorflow/workspace/images/collectedimages/thankyou/thankyou.e248c03e-c56f-11eb-9968-f3cf340be0b1.xml\n",
      "Cancel creation.\n",
      "Image:E:\\practice\\objectdetection\\TFODCourse\\Tensorflow\\workspace\\images\\collectedimages\\thankyou\\thankyou.e4b5fa45-c56f-11eb-b1ff-f3cf340be0b1.jpg -> Annotation:E:/practice/objectdetection/TFODCourse/Tensorflow/workspace/images/collectedimages/thankyou/thankyou.e4b5fa45-c56f-11eb-b1ff-f3cf340be0b1.xml\n",
      "Image:E:\\practice\\objectdetection\\TFODCourse\\Tensorflow\\workspace\\images\\collectedimages\\thumbsdown\\thumbsdown.2bbfefc2-c572-11eb-bbb3-f3cf340be0b1.jpg -> Annotation:E:/practice/objectdetection/TFODCourse/Tensorflow/workspace/images/collectedimages/thumbsdown/thumbsdown.2bbfefc2-c572-11eb-bbb3-f3cf340be0b1.xml\n",
      "Image:E:\\practice\\objectdetection\\TFODCourse\\Tensorflow\\workspace\\images\\collectedimages\\thumbsdown\\thumbsdown.2cf509b7-c572-11eb-a0de-f3cf340be0b1.jpg -> Annotation:E:/practice/objectdetection/TFODCourse/Tensorflow/workspace/images/collectedimages/thumbsdown/thumbsdown.2cf509b7-c572-11eb-a0de-f3cf340be0b1.xml\n",
      "Image:E:\\practice\\objectdetection\\TFODCourse\\Tensorflow\\workspace\\images\\collectedimages\\thumbsdown\\thumbsdown.2e2b12b7-c572-11eb-a9dd-f3cf340be0b1.jpg -> Annotation:E:/practice/objectdetection/TFODCourse/Tensorflow/workspace/images/collectedimages/thumbsdown/thumbsdown.2e2b12b7-c572-11eb-a9dd-f3cf340be0b1.xml\n",
      "Cancel creation.\n",
      "Image:E:\\practice\\objectdetection\\TFODCourse\\Tensorflow\\workspace\\images\\collectedimages\\thumbsdown\\thumbsdown.2f60793a-c572-11eb-a53d-f3cf340be0b1.jpg -> Annotation:E:/practice/objectdetection/TFODCourse/Tensorflow/workspace/images/collectedimages/thumbsdown/thumbsdown.2f60793a-c572-11eb-a53d-f3cf340be0b1.xml\n",
      "Image:E:\\practice\\objectdetection\\TFODCourse\\Tensorflow\\workspace\\images\\collectedimages\\thumbsdown\\thumbsdown.309669b6-c572-11eb-bd89-f3cf340be0b1.jpg -> Annotation:E:/practice/objectdetection/TFODCourse/Tensorflow/workspace/images/collectedimages/thumbsdown/thumbsdown.309669b6-c572-11eb-bd89-f3cf340be0b1.xml\n",
      "Image:E:\\practice\\objectdetection\\TFODCourse\\Tensorflow\\workspace\\images\\collectedimages\\thumbsdown\\thumbsdown.d6a3f21b-c56f-11eb-92aa-f3cf340be0b1.jpg -> Annotation:E:/practice/objectdetection/TFODCourse/Tensorflow/workspace/images/collectedimages/thumbsdown/thumbsdown.d6a3f21b-c56f-11eb-92aa-f3cf340be0b1.xml\n",
      "Image:E:\\practice\\objectdetection\\TFODCourse\\Tensorflow\\workspace\\images\\collectedimages\\thumbsdown\\thumbsdown.d7dbc760-c56f-11eb-8fcf-f3cf340be0b1.jpg -> Annotation:E:/practice/objectdetection/TFODCourse/Tensorflow/workspace/images/collectedimages/thumbsdown/thumbsdown.d7dbc760-c56f-11eb-8fcf-f3cf340be0b1.xml\n",
      "Image:E:\\practice\\objectdetection\\TFODCourse\\Tensorflow\\workspace\\images\\collectedimages\\thumbsdown\\thumbsdown.d56da433-c56f-11eb-a8dc-f3cf340be0b1.jpg -> Annotation:E:/practice/objectdetection/TFODCourse/Tensorflow/workspace/images/collectedimages/thumbsdown/thumbsdown.d56da433-c56f-11eb-a8dc-f3cf340be0b1.xml\n",
      "Image:E:\\practice\\objectdetection\\TFODCourse\\Tensorflow\\workspace\\images\\collectedimages\\thumbsdown\\thumbsdown.d91195f5-c56f-11eb-91db-f3cf340be0b1.jpg -> Annotation:E:/practice/objectdetection/TFODCourse/Tensorflow/workspace/images/collectedimages/thumbsdown/thumbsdown.d91195f5-c56f-11eb-91db-f3cf340be0b1.xml\n",
      "Image:E:\\practice\\objectdetection\\TFODCourse\\Tensorflow\\workspace\\images\\collectedimages\\thumbsdown\\thumbsdown.da49d241-c56f-11eb-8a00-f3cf340be0b1.jpg -> Annotation:E:/practice/objectdetection/TFODCourse/Tensorflow/workspace/images/collectedimages/thumbsdown/thumbsdown.da49d241-c56f-11eb-8a00-f3cf340be0b1.xml\n",
      "Image:E:\\practice\\objectdetection\\TFODCourse\\Tensorflow\\workspace\\images\\collectedimages\\thumbsup\\thumbsup.1ff89497-c572-11eb-802d-f3cf340be0b1.jpg -> Annotation:E:/practice/objectdetection/TFODCourse/Tensorflow/workspace/images/collectedimages/thumbsup/thumbsup.1ff89497-c572-11eb-802d-f3cf340be0b1.xml\n",
      "Image:E:\\practice\\objectdetection\\TFODCourse\\Tensorflow\\workspace\\images\\collectedimages\\thumbsup\\thumbsup.1ff89497-c572-11eb-802d-f3cf340be0b1.jpg -> Annotation:E:\\practice\\objectdetection\\TFODCourse\\Tensorflow\\workspace\\images\\collectedimages\\thumbsup\\thumbsup.1ff89497-c572-11eb-802d-f3cf340be0b1.xml\n",
      "Image:E:\\practice\\objectdetection\\TFODCourse\\Tensorflow\\workspace\\images\\collectedimages\\thumbsup\\thumbsup.1ff89497-c572-11eb-802d-f3cf340be0b1.jpg -> Annotation:E:\\practice\\objectdetection\\TFODCourse\\Tensorflow\\workspace\\images\\collectedimages\\thumbsup\\thumbsup.1ff89497-c572-11eb-802d-f3cf340be0b1.xml\n",
      "Image:E:\\practice\\objectdetection\\TFODCourse\\Tensorflow\\workspace\\images\\collectedimages\\thumbsup\\thumbsup.24d0a0f3-c572-11eb-820d-f3cf340be0b1.jpg -> Annotation:E:/practice/objectdetection/TFODCourse/Tensorflow/workspace/images/collectedimages/thumbsup/thumbsup.24d0a0f3-c572-11eb-820d-f3cf340be0b1.xml\n",
      "Image:E:\\practice\\objectdetection\\TFODCourse\\Tensorflow\\workspace\\images\\collectedimages\\thumbsup\\thumbsup.239a38ff-c572-11eb-b73e-f3cf340be0b1.jpg -> Annotation:E:/practice/objectdetection/TFODCourse/Tensorflow/workspace/images/collectedimages/thumbsup/thumbsup.239a38ff-c572-11eb-b73e-f3cf340be0b1.xml\n",
      "Image:E:\\practice\\objectdetection\\TFODCourse\\Tensorflow\\workspace\\images\\collectedimages\\thumbsup\\thumbsup.2265c8ea-c572-11eb-b228-f3cf340be0b1.jpg -> Annotation:E:/practice/objectdetection/TFODCourse/Tensorflow/workspace/images/collectedimages/thumbsup/thumbsup.2265c8ea-c572-11eb-b228-f3cf340be0b1.xml\n",
      "Image:E:\\practice\\objectdetection\\TFODCourse\\Tensorflow\\workspace\\images\\collectedimages\\thumbsup\\thumbsup.2130064d-c572-11eb-bbc1-f3cf340be0b1.jpg -> Annotation:E:/practice/objectdetection/TFODCourse/Tensorflow/workspace/images/collectedimages/thumbsup/thumbsup.2130064d-c572-11eb-bbc1-f3cf340be0b1.xml\n",
      "Image:E:\\practice\\objectdetection\\TFODCourse\\Tensorflow\\workspace\\images\\collectedimages\\thumbsup\\thumbsup.c9d7b29f-c56f-11eb-9a06-f3cf340be0b1.jpg -> Annotation:E:/practice/objectdetection/TFODCourse/Tensorflow/workspace/images/collectedimages/thumbsup/thumbsup.c9d7b29f-c56f-11eb-9a06-f3cf340be0b1.xml\n",
      "Image:E:\\practice\\objectdetection\\TFODCourse\\Tensorflow\\workspace\\images\\collectedimages\\thumbsup\\thumbsup.cb18314a-c56f-11eb-ae99-f3cf340be0b1.jpg -> Annotation:E:/practice/objectdetection/TFODCourse/Tensorflow/workspace/images/collectedimages/thumbsup/thumbsup.cb18314a-c56f-11eb-ae99-f3cf340be0b1.xml\n",
      "Image:E:\\practice\\objectdetection\\TFODCourse\\Tensorflow\\workspace\\images\\collectedimages\\thumbsup\\thumbsup.cc4f2ef5-c56f-11eb-8660-f3cf340be0b1.jpg -> Annotation:E:/practice/objectdetection/TFODCourse/Tensorflow/workspace/images/collectedimages/thumbsup/thumbsup.cc4f2ef5-c56f-11eb-8660-f3cf340be0b1.xml\n",
      "Image:E:\\practice\\objectdetection\\TFODCourse\\Tensorflow\\workspace\\images\\collectedimages\\thumbsup\\thumbsup.cd8497d9-c56f-11eb-a63f-f3cf340be0b1.jpg -> Annotation:E:/practice/objectdetection/TFODCourse/Tensorflow/workspace/images/collectedimages/thumbsup/thumbsup.cd8497d9-c56f-11eb-a63f-f3cf340be0b1.xml\n",
      "Image:E:\\practice\\objectdetection\\TFODCourse\\Tensorflow\\workspace\\images\\collectedimages\\thumbsup\\thumbsup.cebaf4bf-c56f-11eb-9a07-f3cf340be0b1.jpg -> Annotation:E:/practice/objectdetection/TFODCourse/Tensorflow/workspace/images/collectedimages/thumbsup/thumbsup.cebaf4bf-c56f-11eb-9a07-f3cf340be0b1.xml\n"
     ]
    },
    {
     "name": "stderr",
     "output_type": "stream",
     "text": [
      "E:\\practice\\objectdetection\\TFODCourse\\Tensorflow\\labelimg\\labelImg.py:965: DeprecationWarning: an integer is required (got type float).  Implicit conversion to integers using __int__ is deprecated, and may be removed in a future version of Python.\n",
      "  bar.setValue(bar.value() + bar.singleStep() * units)\n"
     ]
    }
   ],
   "source": [
    "!cd {LABELIMG_PATH} && python labelImg.py"
   ]
  },
  {
   "cell_type": "markdown",
   "metadata": {},
   "source": [
    "# 6. Move them into a Training and Testing Partition"
   ]
  },
  {
   "cell_type": "markdown",
   "metadata": {},
   "source": [
    "# OPTIONAL - 7. Compress them for Colab Training"
   ]
  },
  {
   "cell_type": "code",
   "execution_count": 17,
   "metadata": {},
   "outputs": [],
   "source": [
    "TRAIN_PATH = os.path.join('Tensorflow', 'workspace', 'images', 'train')\n",
    "TEST_PATH = os.path.join('Tensorflow', 'workspace', 'images', 'test')\n",
    "ARCHIVE_PATH = os.path.join('Tensorflow', 'workspace', 'images', 'archive.tar.gz')"
   ]
  },
  {
   "cell_type": "code",
   "execution_count": 18,
   "metadata": {},
   "outputs": [],
   "source": [
    "!tar -czf {ARCHIVE_PATH} {TRAIN_PATH} {TEST_PATH}"
   ]
  },
  {
   "cell_type": "code",
   "execution_count": 19,
   "metadata": {},
   "outputs": [
    {
     "name": "stdout",
     "output_type": "stream",
     "text": [
      "hello Jitendra get ready to die\n"
     ]
    }
   ],
   "source": [
    "print('hello Jitendra get ready to die')"
   ]
  },
  {
   "cell_type": "code",
   "execution_count": null,
   "metadata": {},
   "outputs": [],
   "source": []
  }
 ],
 "metadata": {
  "kernelspec": {
   "display_name": "objectdetection",
   "language": "python",
   "name": "objectdetection"
  },
  "language_info": {
   "codemirror_mode": {
    "name": "ipython",
    "version": 3
   },
   "file_extension": ".py",
   "mimetype": "text/x-python",
   "name": "python",
   "nbconvert_exporter": "python",
   "pygments_lexer": "ipython3",
   "version": "3.9.5"
  }
 },
 "nbformat": 4,
 "nbformat_minor": 2
}
